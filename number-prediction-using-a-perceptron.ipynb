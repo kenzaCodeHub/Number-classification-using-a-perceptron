{
 "cells": [
  {
   "cell_type": "code",
   "execution_count": 1,
   "id": "a6a4197a",
   "metadata": {
    "_cell_guid": "b1076dfc-b9ad-4769-8c92-a6c4dae69d19",
    "_uuid": "8f2839f25d086af736a60e9eeb907d3b93b6e0e5",
    "execution": {
     "iopub.execute_input": "2024-01-06T11:40:12.648104Z",
     "iopub.status.busy": "2024-01-06T11:40:12.647729Z",
     "iopub.status.idle": "2024-01-06T11:40:13.954867Z",
     "shell.execute_reply": "2024-01-06T11:40:13.954024Z"
    },
    "papermill": {
     "duration": 1.315993,
     "end_time": "2024-01-06T11:40:13.957433",
     "exception": false,
     "start_time": "2024-01-06T11:40:12.641440",
     "status": "completed"
    },
    "tags": []
   },
   "outputs": [],
   "source": [
    "#import libraries\n",
    "import numpy as np\n",
    "from sklearn.linear_model import Perceptron # Importing the Perceptron model from scikit-learn\n",
    "import matplotlib.pyplot as plt"
   ]
  },
  {
   "cell_type": "code",
   "execution_count": 2,
   "id": "f84c6369",
   "metadata": {
    "execution": {
     "iopub.execute_input": "2024-01-06T11:40:13.967075Z",
     "iopub.status.busy": "2024-01-06T11:40:13.966240Z",
     "iopub.status.idle": "2024-01-06T11:40:13.985027Z",
     "shell.execute_reply": "2024-01-06T11:40:13.984271Z"
    },
    "papermill": {
     "duration": 0.026113,
     "end_time": "2024-01-06T11:40:13.987579",
     "exception": false,
     "start_time": "2024-01-06T11:40:13.961466",
     "status": "completed"
    },
    "tags": []
   },
   "outputs": [
    {
     "name": "stdout",
     "output_type": "stream",
     "text": [
      "[[1 0 0 0 1 1 0 1 0 1 1 0 1 0 1 1 0 1 0 1 1 0 0 0 1]\n",
      " [1 1 0 1 1 1 0 0 1 1 1 1 0 1 1 1 1 0 1 1 1 0 0 0 1]\n",
      " [1 0 0 0 1 1 1 1 0 1 1 0 0 0 1 1 0 1 1 1 1 0 0 0 1]\n",
      " [1 0 0 0 1 1 1 1 0 1 1 0 0 0 1 1 1 1 0 1 1 0 0 0 1]\n",
      " [1 0 1 1 1 1 0 1 0 1 1 0 0 0 0 1 1 1 0 1 1 1 1 0 1]\n",
      " [1 0 0 0 1 1 0 1 1 1 1 0 0 0 1 1 1 1 0 1 1 0 0 0 1]\n",
      " [0 0 0 0 1 0 1 1 1 1 0 0 0 0 1 0 1 1 0 1 0 0 0 0 1]\n",
      " [1 0 0 0 1 1 1 1 0 1 1 0 0 0 0 1 1 1 0 1 1 1 1 0 1]\n",
      " [1 0 0 0 1 1 0 1 0 1 1 0 0 0 1 1 0 1 0 1 1 0 0 0 1]\n",
      " [1 0 0 0 0 1 0 1 1 0 1 0 0 0 0 1 1 1 1 0 1 0 0 0 0]]\n",
      "[0 1 2 3 4 5 6 7 8 9]\n"
     ]
    }
   ],
   "source": [
    "#give the inputs and outputs:\n",
    "x=np.array([[1,0,0,0,1,1,0,1,0,1,1,0,1,0,1,1,0,1,0,1,1,0,0,0,1]\n",
    "            ,[1,1,0,1,1,1,0,0,1,1,1,1,0,1,1,1,1,0,1,1,1,0,0,0,1]\n",
    "            ,[1,0,0,0,1,1,1,1,0,1,1,0,0,0,1,1,0,1,1,1,1,0,0,0,1]\n",
    "            ,[1,0,0,0,1,1,1,1,0,1,1,0,0,0,1,1,1,1,0,1,1,0,0,0,1],\n",
    "            [1,0,1,1,1,1,0,1,0,1,1,0,0,0,0,1,1,1,0,1,1,1,1,0,1],\n",
    "            [1,0,0,0,1,1,0,1,1,1,1,0,0,0,1,1,1,1,0,1,1,0,0,0,1],\n",
    "            [0,0,0,0,1,0,1,1,1,1,0,0,0,0,1,0,1,1,0,1,0,0,0,0,1],\n",
    "            [1,0,0,0,1,1,1,1,0,1,1,0,0,0,0,1,1,1,0,1,1,1,1,0,1],\n",
    "            [1,0,0,0,1,1,0,1,0,1,1,0,0,0,1,1,0,1,0,1,1,0,0,0,1],\n",
    "            [1,0,0,0,0,1,0,1,1,0,1,0,0,0,0,1,1,1,1,0,1,0,0,0,0]])\n",
    "y=np.array([0,1,2,3,4,5,6,7,8,9])\n",
    "#print for x and y\n",
    "print(x)\n",
    "print(y)"
   ]
  },
  {
   "cell_type": "code",
   "execution_count": 3,
   "id": "90215678",
   "metadata": {
    "execution": {
     "iopub.execute_input": "2024-01-06T11:40:13.998491Z",
     "iopub.status.busy": "2024-01-06T11:40:13.998092Z",
     "iopub.status.idle": "2024-01-06T11:40:14.002908Z",
     "shell.execute_reply": "2024-01-06T11:40:14.001888Z"
    },
    "papermill": {
     "duration": 0.012588,
     "end_time": "2024-01-06T11:40:14.005478",
     "exception": false,
     "start_time": "2024-01-06T11:40:13.992890",
     "status": "completed"
    },
    "tags": []
   },
   "outputs": [],
   "source": [
    "# Creating an instance of the Perceptron model\n",
    "net=Perceptron(random_state=0)"
   ]
  },
  {
   "cell_type": "code",
   "execution_count": 4,
   "id": "d16152d0",
   "metadata": {
    "execution": {
     "iopub.execute_input": "2024-01-06T11:40:14.014294Z",
     "iopub.status.busy": "2024-01-06T11:40:14.013948Z",
     "iopub.status.idle": "2024-01-06T11:40:14.104975Z",
     "shell.execute_reply": "2024-01-06T11:40:14.103893Z"
    },
    "papermill": {
     "duration": 0.098213,
     "end_time": "2024-01-06T11:40:14.107493",
     "exception": false,
     "start_time": "2024-01-06T11:40:14.009280",
     "status": "completed"
    },
    "tags": []
   },
   "outputs": [],
   "source": [
    "num_epochs = 14  # Change this to the number of epochs you want\n",
    "for epoch in range(num_epochs):\n",
    "  net.partial_fit(x, y,classes=np.unique(y))# training the perceptron"
   ]
  },
  {
   "cell_type": "code",
   "execution_count": 5,
   "id": "8ac15b7d",
   "metadata": {
    "execution": {
     "iopub.execute_input": "2024-01-06T11:40:14.117100Z",
     "iopub.status.busy": "2024-01-06T11:40:14.116677Z",
     "iopub.status.idle": "2024-01-06T11:40:14.127183Z",
     "shell.execute_reply": "2024-01-06T11:40:14.125999Z"
    },
    "papermill": {
     "duration": 0.018108,
     "end_time": "2024-01-06T11:40:14.129499",
     "exception": false,
     "start_time": "2024-01-06T11:40:14.111391",
     "status": "completed"
    },
    "tags": []
   },
   "outputs": [
    {
     "name": "stdout",
     "output_type": "stream",
     "text": [
      "0.9\n"
     ]
    }
   ],
   "source": [
    "#Measure the trained perceptron \n",
    "accuracy = net.score(x, y)\n",
    "print(accuracy)"
   ]
  },
  {
   "cell_type": "code",
   "execution_count": 6,
   "id": "eb20d771",
   "metadata": {
    "execution": {
     "iopub.execute_input": "2024-01-06T11:40:14.138958Z",
     "iopub.status.busy": "2024-01-06T11:40:14.138569Z",
     "iopub.status.idle": "2024-01-06T11:40:14.145695Z",
     "shell.execute_reply": "2024-01-06T11:40:14.144594Z"
    },
    "papermill": {
     "duration": 0.014901,
     "end_time": "2024-01-06T11:40:14.148327",
     "exception": false,
     "start_time": "2024-01-06T11:40:14.133426",
     "status": "completed"
    },
    "tags": []
   },
   "outputs": [
    {
     "name": "stdout",
     "output_type": "stream",
     "text": [
      "the prediction of this test is : [0]\n"
     ]
    }
   ],
   "source": [
    "#prediction with the train data\n",
    "train_test=np.array([[1,0,0,0,1,1,0,1,0,1,1,0,1,0,1,1,0,1,0,1,1,0,0,0,1]])\n",
    "yp=net.predict(train_test)\n",
    "print(\"the prediction of this test is :\",yp)"
   ]
  },
  {
   "cell_type": "code",
   "execution_count": 7,
   "id": "1cb1c417",
   "metadata": {
    "execution": {
     "iopub.execute_input": "2024-01-06T11:40:14.158547Z",
     "iopub.status.busy": "2024-01-06T11:40:14.158118Z",
     "iopub.status.idle": "2024-01-06T11:40:14.167178Z",
     "shell.execute_reply": "2024-01-06T11:40:14.166146Z"
    },
    "papermill": {
     "duration": 0.017412,
     "end_time": "2024-01-06T11:40:14.169957",
     "exception": false,
     "start_time": "2024-01-06T11:40:14.152545",
     "status": "completed"
    },
    "tags": []
   },
   "outputs": [
    {
     "name": "stdout",
     "output_type": "stream",
     "text": [
      "the prediction of this test is : [9]\n",
      "the prediction of this test is : [6]\n"
     ]
    }
   ],
   "source": [
    "#prediction with new data \n",
    "#first prediction:\n",
    "prediction_1=np.array([[0,0,0,0,0,1,0,1,1,0,1,0,0,0,0,1,1,1,1,0,0,0,0,0,0]])\n",
    "y_prediction1=net.predict(prediction_1)\n",
    "print(\"the prediction of this test is :\",y_prediction1)\n",
    "#second prediction:\n",
    "prediction_2=np.array([[0,0,0,0,1,0,1,1,1,1,0,0,0,0,1,0,1,1,0,1,0,0,0,0,0]])\n",
    "y_prediction2=net.predict(prediction_2)\n",
    "print(\"the prediction of this test is :\",y_prediction2)"
   ]
  },
  {
   "cell_type": "code",
   "execution_count": 8,
   "id": "9ba89b79",
   "metadata": {
    "execution": {
     "iopub.execute_input": "2024-01-06T11:40:14.179793Z",
     "iopub.status.busy": "2024-01-06T11:40:14.179409Z",
     "iopub.status.idle": "2024-01-06T11:40:14.850425Z",
     "shell.execute_reply": "2024-01-06T11:40:14.849297Z"
    },
    "papermill": {
     "duration": 0.67911,
     "end_time": "2024-01-06T11:40:14.853121",
     "exception": false,
     "start_time": "2024-01-06T11:40:14.174011",
     "status": "completed"
    },
    "tags": []
   },
   "outputs": [
    {
     "data": {
      "image/png": "[encoded data removed]",
      "text/plain": [
       "<Figure size 800x400 with 2 Axes>"
      ]
     },
     "metadata": {},
     "output_type": "display_data"
    }
   ],
   "source": [
    "result_prediction1=prediction_1.reshape(5,5)\n",
    "result_prediction2=prediction_2.reshape(5,5)\n",
    "plt.figure(figsize=(8,4))\n",
    "# Subplot 1 for result_prediction1\n",
    "plt.subplot(1, 2, 1)  # 1 row, 2 columns, subplot 1\n",
    "plt.imshow(result_prediction1, cmap='gray')\n",
    "plt.title('predicted image 1')\n",
    "# Subplot 2 for result_prediction2\n",
    "plt.subplot(1, 2, 2)\n",
    "plt.imshow(result_prediction2,cmap='gray')\n",
    "plt.title('predicted image 2')\n",
    "plt.tight_layout() "
   ]
  }
 ],
 "metadata": {
  "kaggle": {
   "accelerator": "none",
   "dataSources": [],
   "dockerImageVersionId": 30626,
   "isGpuEnabled": false,
   "isInternetEnabled": true,
   "language": "python",
   "sourceType": "notebook"
  },
  "kernelspec": {
   "display_name": "Python 3",
   "language": "python",
   "name": "python3"
  },
  "language_info": {
   "codemirror_mode": {
    "name": "ipython",
    "version": 3
   },
   "file_extension": ".py",
   "mimetype": "text/x-python",
   "name": "python",
   "nbconvert_exporter": "python",
   "pygments_lexer": "ipython3",
   "version": "3.10.12"
  },
  "papermill": {
   "default_parameters": {},
   "duration": 6.000265,
   "end_time": "2024-01-06T11:40:15.278723",
   "environment_variables": {},
   "exception": null,
   "input_path": "__notebook__.ipynb",
   "output_path": "__notebook__.ipynb",
   "parameters": {},
   "start_time": "2024-01-06T11:40:09.278458",
   "version": "2.4.0"
  }
 },
 "nbformat": 4,
 "nbformat_minor": 5
}
